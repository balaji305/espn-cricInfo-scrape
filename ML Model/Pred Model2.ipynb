{
 "cells": [
  {
   "cell_type": "markdown",
   "id": "1397864c",
   "metadata": {},
   "source": [
    "IMPORT"
   ]
  },
  {
   "cell_type": "code",
   "execution_count": 1,
   "id": "c284eeef",
   "metadata": {},
   "outputs": [],
   "source": [
    "import requests\n",
    "import json\n",
    "import pandas as pd\n",
    "import mysql.connector\n",
    "import sys\n",
    "import os"
   ]
  },
  {
   "cell_type": "markdown",
   "id": "494f65fc",
   "metadata": {},
   "source": [
    "CONNECTING TO DATABASE"
   ]
  },
  {
   "cell_type": "code",
   "execution_count": 2,
   "id": "aa7f7b77",
   "metadata": {},
   "outputs": [],
   "source": [
    "mydb = mysql.connector.connect(\n",
    "host=\"localhost\",\n",
    "user=\"admin\",\n",
    "password=\"admin\",\n",
    "database='cricinfo',\n",
    ")\n",
    "mycursor = mydb.cursor()"
   ]
  },
  {
   "cell_type": "markdown",
   "id": "f7ebc7f4",
   "metadata": {},
   "source": [
    "INPUT"
   ]
  },
  {
   "cell_type": "code",
   "execution_count": 4,
   "id": "4b2e0cca",
   "metadata": {},
   "outputs": [],
   "source": [
    "team1_id = int(input(\"Enter the first team ID: \"))\n",
    "team1 = []\n",
    "for i in range(1):\n",
    "    player = int(input(\"Enter the player ID of Team 1: \"))\n",
    "    team1.append(player)\n",
    "\n",
    "team2_id = int(input(\"Enter the second team ID: \"))\n",
    "team2 = []\n",
    "for i in range(1):\n",
    "    player = int(input(\"Enter the player ID of Team 2: \"))\n",
    "    team2.append(player)\n",
    "\n",
    "match_type = int(input(\"Enter the match type: \"))\n",
    "\n",
    "ground_id = int(input(\"Enter the ground ID: \"))\n",
    "\n",
    "batting_first = int(input(\"Enter the batting first team (1 or 2): \"))\n",
    "bowling_first = int(input(\"Enter the bowling first team (1 or 2): \"))\n",
    "if batting_first == 1:\n",
    "    team1_innings = 1\n",
    "    team2_innings = 2\n",
    "else:\n",
    "    team1_innings = 2\n",
    "    team2_innings = 1"
   ]
  },
  {
   "cell_type": "markdown",
   "id": "e9e0a295",
   "metadata": {},
   "source": [
    "FETCHING REQUIRED DATA"
   ]
  },
  {
   "cell_type": "code",
   "execution_count": null,
   "id": "71b5cf1d",
   "metadata": {},
   "outputs": [],
   "source": [
    "# Fetching data for all 22 players\n",
    "player_data_all_format = []\n",
    "player_data_match_format = []\n",
    "player_data_ground = []\n",
    "player_data_opponent = []\n",
    "player_data_innings = []\n",
    "player_data_all = []\n",
    "\n",
    "# Fetching data based on all formats\n",
    "team = [379140]\n",
    "for player_id in team1 + team2:\n",
    "    query = \"\"\"SELECT SUM(Total_Fantasy) FROM fantasy_point_table WHERE Player_ID = %s\"\"\"\n",
    "    mycursor.execute(query,(player_id,))\n",
    "    result = mycursor.fetchone()\n",
    "    player_data_all_format.append(result[0])\n",
    "\n",
    "# Fetching data based on match format\n",
    "for player_id in team1 + team2:\n",
    "    query = \"\"\"SELECT SUM(Total_Fantasy) FROM fantasy_point_table WHERE Player_ID = %s AND Match_Type = %s\"\"\"\n",
    "    mycursor.execute(query,(player_id,match_type))\n",
    "    result = mycursor.fetchone()\n",
    "    player_data_match_format.append(result[0])\n",
    "\n",
    "# Fetching data based on ground\n",
    "for player_id in team1 + team2:\n",
    "    query = \"\"\"SELECT SUM(Total_Fantasy) FROM fantasy_point_table WHERE Player_ID = %s AND Ground_ID = %s\"\"\"\n",
    "    mycursor.execute(query,(player_id,ground_id))\n",
    "    result = mycursor.fetchone()\n",
    "    player_data_ground.append(result[0])\n",
    "\n",
    "# Fetching data based on opponent\n",
    "for player_id in team1:\n",
    "    query = \"\"\"SELECT SUM(Total_Fantasy) FROM fantasy_point_table WHERE Player_ID = %s AND Opponent_Team_ID = %s\"\"\"\n",
    "    mycursor.execute(query,(player_id,team2_id))\n",
    "    result = mycursor.fetchone()\n",
    "    player_data_opponent.append(result[0])\n",
    "\n",
    "for player_id in team2:\n",
    "    query = \"\"\"SELECT SUM(Total_Fantasy) FROM fantasy_point_table WHERE Player_ID = %s AND Opponent_Team_ID = %s\"\"\"\n",
    "    mycursor.execute(query,(player_id,team1_id))\n",
    "    result = mycursor.fetchone()\n",
    "    player_data_opponent.append(result[0])\n",
    "\n",
    "# Fetching data based on innings\n",
    "for player_id in team1:\n",
    "    query = \"\"\"SELECT SUM(Total_Fantasy) FROM fantasy_point_table WHERE Player_ID = %s AND Innings_Order = %s\"\"\"\n",
    "    mycursor.execute(query,(player_id,team1_innings))\n",
    "    result = mycursor.fetchone()\n",
    "    player_data_innings.append(result[0])\n",
    "\n",
    "for player_id in team2:\n",
    "    query = \"\"\"SELECT SUM(Total_Fantasy) FROM fantasy_point_table WHERE Player_ID = %s AND Innings_Order = %s\"\"\"\n",
    "    mycursor.execute(query,(player_id,team2_innings))\n",
    "    result = mycursor.fetchone()\n",
    "    player_data_innings.append(result[0])\n",
    "\n",
    "# Fetching data based on match format, ground, opponent, and innings combined\n",
    "for player_id in team1:\n",
    "    query = \"\"\"SELECT SUM(Total_Fantasy) FROM fantasy_point_table WHERE Player_ID = %s AND Match_Type = %s AND Ground_ID = %s AND Opponent_Team_ID = %s AND Innings_Order = %s\"\"\"\n",
    "    mycursor.execute(query,(player_id,match_type,ground_id,team2_id,team1_innings))\n",
    "    result = mycursor.fetchone()\n",
    "    player_data_all.append(result[0])\n",
    "\n",
    "for player_id in team2:\n",
    "    query = \"\"\"SELECT SUM(Total_Fantasy) FROM fantasy_point_table WHERE Player_ID = %s AND Match_Type = %s AND Ground_ID = %s AND Opponent_Team_ID = %s AND Innings_Order = %s\"\"\"\n",
    "    mycursor.execute(query,(player_id,match_type,ground_id,team1_id,team2_innings))\n",
    "    result = mycursor.fetchone()\n",
    "    player_data_all.append(result[0])"
   ]
  },
  {
   "cell_type": "code",
   "execution_count": 3,
   "id": "127c5baf",
   "metadata": {},
   "outputs": [
    {
     "name": "stdout",
     "output_type": "stream",
     "text": [
      "   Player_ID  Team_ID  Opponent_Team_ID  Ground_ID  Match_Date  Innings_Order  \\\n",
      "0     219889        2                 7      56336  2017-01-13              1   \n",
      "1     227758        7                 2      56336  2017-01-13              2   \n",
      "2     227762        7                 2      56336  2017-01-13              2   \n",
      "3     230193        2                 7      56336  2017-01-13              1   \n",
      "4     267192        2                 7      56336  2017-01-13              1   \n",
      "\n",
      "   Match_Type  Matches  In_Dream_Team  \n",
      "0           2        1              0  \n",
      "1           2        1              1  \n",
      "2           2        1              0  \n",
      "3           2        1              1  \n",
      "4           2        1              0  \n"
     ]
    }
   ],
   "source": [
    "df = pd.read_excel('dataset.xlsx')\n",
    "print(df.head())"
   ]
  },
  {
   "cell_type": "code",
   "execution_count": null,
   "id": "9d91bb85",
   "metadata": {},
   "outputs": [],
   "source": []
  }
 ],
 "metadata": {
  "kernelspec": {
   "display_name": "Python 3 (ipykernel)",
   "language": "python",
   "name": "python3"
  },
  "language_info": {
   "codemirror_mode": {
    "name": "ipython",
    "version": 3
   },
   "file_extension": ".py",
   "mimetype": "text/x-python",
   "name": "python",
   "nbconvert_exporter": "python",
   "pygments_lexer": "ipython3",
   "version": "3.11.3"
  }
 },
 "nbformat": 4,
 "nbformat_minor": 5
}
