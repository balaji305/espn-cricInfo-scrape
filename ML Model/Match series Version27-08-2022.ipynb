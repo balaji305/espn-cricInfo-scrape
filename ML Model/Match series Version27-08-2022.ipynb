{
 "cells": [
  {
   "cell_type": "code",
   "execution_count": 1,
   "id": "ae31f643",
   "metadata": {},
   "outputs": [],
   "source": [
    "import requests\n",
    "from scrapy import Selector"
   ]
  },
  {
   "cell_type": "code",
   "execution_count": 2,
   "id": "2c1bb605",
   "metadata": {},
   "outputs": [],
   "source": [
    "data=requests.get('https://stats.espncricinfo.com/ci/engine/records/team/series_results.html?class=13;id=2023;type=year')\n",
    "response=Selector(data)"
   ]
  },
  {
   "cell_type": "code",
   "execution_count": 3,
   "id": "b521124d",
   "metadata": {},
   "outputs": [],
   "source": [
    "import csv\n",
    "filename=\"2023 ALL MATCHES\"\n",
    "with open(f\"{filename}.csv\", \"w+\", newline='') as f:\n",
    "            writer = csv.writer(f)\n",
    "            header = ['Team1', 'Team2', 'status','Scorecard_url']\n",
    "            writer.writerow(header)"
   ]
  },
  {
   "cell_type": "code",
   "execution_count": 4,
   "id": "ee05d8aa",
   "metadata": {},
   "outputs": [],
   "source": [
    "series_table=response.xpath('.//caption[contains(text(),\"Series results\")]/parent::table')\n",
    "series_urls=series_table.xpath('.//*[contains(@href,\"/series/\")]/@href').extract()"
   ]
  },
  {
   "cell_type": "code",
   "execution_count": 5,
   "id": "f658078d",
   "metadata": {},
   "outputs": [],
   "source": [
    "for series_url in series_urls:\n",
    "    series_id=series_url.split('/')[-1].replace('.html','')\n",
    "    series_url=f'https://www.espncricinfo.com/series/big-bash-league-2021-22-{series_id}/match-schedule-fixtures-and-results'\n",
    "    data3=requests.get(series_url)\n",
    "    response3=Selector(data3)\n",
    "    #matchs=response3.xpath('//*[@class=\"ds-text-compact-xxs\" ]')\n",
    "    matchs=response3.xpath('.//*[contains(@class,\"ds-p-4 hover:ds-bg-ui-fill-translucent\")]')\n",
    "    #try:\n",
    "    for m in matchs:\n",
    "        teams=m.xpath('.//*[@class=\"ds-flex ds-items-center ds-min-w-0 ds-mr-1\"]/p/text()').extract()\n",
    "        status=m.xpath('.//*[@class=\"ds-text-tight-s ds-font-regular ds-line-clamp-2 ds-text-typo\"]/span/text()').extract_first()\n",
    "        scorecard =m.xpath('.//a/@href').extract_first()\n",
    "        team1=teams[0]\n",
    "        team2=teams[-1]\n",
    "        scorecard_url='https://www.espncricinfo.com'+scorecard\n",
    "        with open(f\"{filename}.csv\", \"a+\", newline='') as f:\n",
    "            writer = csv.writer(f)\n",
    "            value = [team1,team2,status,scorecard_url]\n",
    "            writer.writerow(value)"
   ]
  },
  {
   "cell_type": "code",
   "execution_count": null,
   "id": "b1051f6f",
   "metadata": {},
   "outputs": [],
   "source": []
  },
  {
   "cell_type": "code",
   "execution_count": null,
   "id": "bdeb12e5",
   "metadata": {},
   "outputs": [],
   "source": []
  },
  {
   "cell_type": "code",
   "execution_count": null,
   "id": "69c3a839",
   "metadata": {},
   "outputs": [],
   "source": []
  },
  {
   "cell_type": "code",
   "execution_count": null,
   "id": "f3d8c0e1",
   "metadata": {},
   "outputs": [],
   "source": []
  }
 ],
 "metadata": {
  "kernelspec": {
   "display_name": "Python 3 (ipykernel)",
   "language": "python",
   "name": "python3"
  },
  "language_info": {
   "codemirror_mode": {
    "name": "ipython",
    "version": 3
   },
   "file_extension": ".py",
   "mimetype": "text/x-python",
   "name": "python",
   "nbconvert_exporter": "python",
   "pygments_lexer": "ipython3",
   "version": "3.9.13"
  }
 },
 "nbformat": 4,
 "nbformat_minor": 5
}
