{
 "cells": [
  {
   "cell_type": "markdown",
   "id": "1397864c",
   "metadata": {},
   "source": [
    "IMPORT"
   ]
  },
  {
   "cell_type": "code",
   "execution_count": 43,
   "id": "c284eeef",
   "metadata": {},
   "outputs": [],
   "source": [
    "import requests\n",
    "import json\n",
    "import pandas as pd\n",
    "import mysql.connector\n",
    "import sys\n",
    "import os\n",
    "from sklearn.model_selection import train_test_split\n",
    "from sklearn.ensemble import RandomForestClassifier"
   ]
  },
  {
   "cell_type": "markdown",
   "id": "494f65fc",
   "metadata": {},
   "source": [
    "CONNECTING TO DATABASE"
   ]
  },
  {
   "cell_type": "code",
   "execution_count": 44,
   "id": "aa7f7b77",
   "metadata": {},
   "outputs": [],
   "source": [
    "mydb = mysql.connector.connect(\n",
    "host=\"localhost\",\n",
    "user=\"admin\",\n",
    "password=\"admin\",\n",
    "database='cricinfo',\n",
    ")\n",
    "mycursor = mydb.cursor()"
   ]
  },
  {
   "cell_type": "markdown",
   "id": "f7ebc7f4",
   "metadata": {},
   "source": [
    "INPUT"
   ]
  },
  {
   "cell_type": "code",
   "execution_count": 45,
   "id": "4b2e0cca",
   "metadata": {},
   "outputs": [
    {
     "ename": "ValueError",
     "evalue": "invalid literal for int() with base 10: ''",
     "output_type": "error",
     "traceback": [
      "\u001b[1;31m---------------------------------------------------------------------------\u001b[0m",
      "\u001b[1;31mValueError\u001b[0m                                Traceback (most recent call last)",
      "Cell \u001b[1;32mIn[45], line 1\u001b[0m\n\u001b[1;32m----> 1\u001b[0m team1_id \u001b[38;5;241m=\u001b[39m \u001b[38;5;28;43mint\u001b[39;49m\u001b[43m(\u001b[49m\u001b[38;5;28;43minput\u001b[39;49m\u001b[43m(\u001b[49m\u001b[38;5;124;43m\"\u001b[39;49m\u001b[38;5;124;43mEnter the first team ID: \u001b[39;49m\u001b[38;5;124;43m\"\u001b[39;49m\u001b[43m)\u001b[49m\u001b[43m)\u001b[49m\n\u001b[0;32m      2\u001b[0m team1 \u001b[38;5;241m=\u001b[39m []\n\u001b[0;32m      3\u001b[0m \u001b[38;5;28;01mfor\u001b[39;00m i \u001b[38;5;129;01min\u001b[39;00m \u001b[38;5;28mrange\u001b[39m(\u001b[38;5;241m1\u001b[39m):\n",
      "\u001b[1;31mValueError\u001b[0m: invalid literal for int() with base 10: ''"
     ]
    }
   ],
   "source": [
    "team1_id = int(input(\"Enter the first team ID: \"))\n",
    "team1 = []\n",
    "for i in range(1):\n",
    "    player = int(input(\"Enter the player ID of Team 1: \"))\n",
    "    team1.append(player)\n",
    "\n",
    "team2_id = int(input(\"Enter the second team ID: \"))\n",
    "team2 = []\n",
    "for i in range(1):\n",
    "    player = int(input(\"Enter the player ID of Team 2: \"))\n",
    "    team2.append(player)\n",
    "\n",
    "match_type = int(input(\"Enter the match type: \"))\n",
    "\n",
    "ground_id = int(input(\"Enter the ground ID: \"))\n",
    "\n",
    "batting_first = int(input(\"Enter the batting first team (1 or 2): \"))\n",
    "bowling_first = int(input(\"Enter the bowling first team (1 or 2): \"))\n",
    "if batting_first == 1:\n",
    "    team1_innings = 1\n",
    "    team2_innings = 2\n",
    "else:\n",
    "    team1_innings = 2\n",
    "    team2_innings = 1"
   ]
  },
  {
   "cell_type": "markdown",
   "id": "e9e0a295",
   "metadata": {},
   "source": [
    "FETCHING REQUIRED DATA"
   ]
  },
  {
   "cell_type": "code",
   "execution_count": 46,
   "id": "71b5cf1d",
   "metadata": {},
   "outputs": [],
   "source": [
    "# Fetching data for all 22 players\n",
    "player_data_all_format = []\n",
    "player_data_match_format = []\n",
    "player_data_ground = []\n",
    "player_data_opponent = []\n",
    "player_data_innings = []\n",
    "player_data_all = []\n",
    "\n",
    "# Fetching data based on all formats\n",
    "team = [379140]\n",
    "for player_id in team1 + team2:\n",
    "    query = \"\"\"SELECT SUM(Total_Fantasy) FROM fantasy_point_table WHERE Player_ID = %s\"\"\"\n",
    "    mycursor.execute(query,(player_id,))\n",
    "    result = mycursor.fetchone()\n",
    "    player_data_all_format.append(result[0])\n",
    "\n",
    "# Fetching data based on match format\n",
    "for player_id in team1 + team2:\n",
    "    query = \"\"\"SELECT SUM(Total_Fantasy) FROM fantasy_point_table WHERE Player_ID = %s AND Match_Type = %s\"\"\"\n",
    "    mycursor.execute(query,(player_id,match_type))\n",
    "    result = mycursor.fetchone()\n",
    "    player_data_match_format.append(result[0])\n",
    "\n",
    "# Fetching data based on ground\n",
    "for player_id in team1 + team2:\n",
    "    query = \"\"\"SELECT SUM(Total_Fantasy) FROM fantasy_point_table WHERE Player_ID = %s AND Ground_ID = %s\"\"\"\n",
    "    mycursor.execute(query,(player_id,ground_id))\n",
    "    result = mycursor.fetchone()\n",
    "    player_data_ground.append(result[0])\n",
    "\n",
    "# Fetching data based on opponent\n",
    "for player_id in team1:\n",
    "    query = \"\"\"SELECT SUM(Total_Fantasy) FROM fantasy_point_table WHERE Player_ID = %s AND Opponent_Team_ID = %s\"\"\"\n",
    "    mycursor.execute(query,(player_id,team2_id))\n",
    "    result = mycursor.fetchone()\n",
    "    player_data_opponent.append(result[0])\n",
    "\n",
    "for player_id in team2:\n",
    "    query = \"\"\"SELECT SUM(Total_Fantasy) FROM fantasy_point_table WHERE Player_ID = %s AND Opponent_Team_ID = %s\"\"\"\n",
    "    mycursor.execute(query,(player_id,team1_id))\n",
    "    result = mycursor.fetchone()\n",
    "    player_data_opponent.append(result[0])\n",
    "\n",
    "# Fetching data based on innings\n",
    "for player_id in team1:\n",
    "    query = \"\"\"SELECT SUM(Total_Fantasy) FROM fantasy_point_table WHERE Player_ID = %s AND Innings_Order = %s\"\"\"\n",
    "    mycursor.execute(query,(player_id,team1_innings))\n",
    "    result = mycursor.fetchone()\n",
    "    player_data_innings.append(result[0])\n",
    "\n",
    "for player_id in team2:\n",
    "    query = \"\"\"SELECT SUM(Total_Fantasy) FROM fantasy_point_table WHERE Player_ID = %s AND Innings_Order = %s\"\"\"\n",
    "    mycursor.execute(query,(player_id,team2_innings))\n",
    "    result = mycursor.fetchone()\n",
    "    player_data_innings.append(result[0])\n",
    "\n",
    "# Fetching data based on match format, ground, opponent, and innings combined\n",
    "for player_id in team1:\n",
    "    query = \"\"\"SELECT SUM(Total_Fantasy) FROM fantasy_point_table WHERE Player_ID = %s AND Match_Type = %s AND Ground_ID = %s AND Opponent_Team_ID = %s AND Innings_Order = %s\"\"\"\n",
    "    mycursor.execute(query,(player_id,match_type,ground_id,team2_id,team1_innings))\n",
    "    result = mycursor.fetchone()\n",
    "    player_data_all.append(result[0])\n",
    "\n",
    "for player_id in team2:\n",
    "    query = \"\"\"SELECT SUM(Total_Fantasy) FROM fantasy_point_table WHERE Player_ID = %s AND Match_Type = %s AND Ground_ID = %s AND Opponent_Team_ID = %s AND Innings_Order = %s\"\"\"\n",
    "    mycursor.execute(query,(player_id,match_type,ground_id,team1_id,team2_innings))\n",
    "    result = mycursor.fetchone()\n",
    "    player_data_all.append(result[0])"
   ]
  },
  {
   "cell_type": "code",
   "execution_count": 47,
   "id": "127c5baf",
   "metadata": {},
   "outputs": [
    {
     "name": "stdout",
     "output_type": "stream",
     "text": [
      "[Decimal('13926'), Decimal('12009')]\n",
      "[Decimal('9447'), Decimal('1700')]\n",
      "[Decimal('118'), Decimal('280')]\n",
      "[Decimal('1611'), Decimal('524')]\n",
      "[Decimal('7367'), Decimal('5375')]\n",
      "[Decimal('91'), Decimal('201')]\n"
     ]
    }
   ],
   "source": [
    "print(player_data_all_format)\n",
    "print(player_data_match_format)\n",
    "print(player_data_ground)\n",
    "print(player_data_opponent)\n",
    "print(player_data_innings)\n",
    "print(player_data_all)\n"
   ]
  },
  {
   "cell_type": "markdown",
   "id": "012c93c6",
   "metadata": {},
   "source": [
    "Data Set"
   ]
  },
  {
   "cell_type": "code",
   "execution_count": 48,
   "id": "a60d0c24",
   "metadata": {},
   "outputs": [],
   "source": [
    "query = \"SELECT * FROM fantasy_point_table\"\n",
    "mycursor.execute(query)\n",
    "rows = mycursor.fetchall()\n",
    "\n",
    "# Convert the data into a pandas DataFrame\n",
    "df = pd.DataFrame(rows, columns=[i[0] for i in mycursor.description])"
   ]
  },
  {
   "cell_type": "code",
   "execution_count": null,
   "id": "ac404d10",
   "metadata": {},
   "outputs": [],
   "source": [
    "df.to_excel('filename.xlsx', index=False)"
   ]
  },
  {
   "cell_type": "code",
   "execution_count": 49,
   "id": "b822e0d4",
   "metadata": {},
   "outputs": [],
   "source": [
    "X = df.drop(['In_Dream_Team','Match_Date','Match_ID','Match_Player_ID','Captain','Vice_Captain','Status','Player_Name','Matches','Total_Fantasy','Batting_Fantasy','Bowling_Fantasy','Fielding_Fantasy','Bat_Innings','Bowl_Innings','Player_Rank','Value_Fantasy'], axis=1)\n",
    "y = df['In_Dream_Team']"
   ]
  },
  {
   "cell_type": "code",
   "execution_count": 50,
   "id": "1c74a6fb",
   "metadata": {},
   "outputs": [
    {
     "name": "stdout",
     "output_type": "stream",
     "text": [
      "        Player_ID  Team_ID  Opponent_Team_ID  Ground_ID  Innings_Order  \\\n",
      "297817    1283583      122                35      58679              1   \n",
      "128697    1087882  1174604              3570      59294              1   \n",
      "67195      379239     3278            256841      59148              1   \n",
      "36717      851261     2012              1668      58040              1   \n",
      "146806     316363  1117814            953835      59396              1   \n",
      "...           ...      ...               ...        ...            ...   \n",
      "259178     820691   953845            953833      58956              1   \n",
      "365838     233514   325788            325787      59306              2   \n",
      "131932    1122918   335977            335971     392627              2   \n",
      "146867    1158100   953845            953843      59396              1   \n",
      "121958     591653     1905              1668    1173755              2   \n",
      "\n",
      "        Match_Type  \n",
      "297817           3  \n",
      "128697           6  \n",
      "67195            6  \n",
      "36717            6  \n",
      "146806           6  \n",
      "...            ...  \n",
      "259178           6  \n",
      "365838           6  \n",
      "131932           6  \n",
      "146867           6  \n",
      "121958           6  \n",
      "\n",
      "[369868 rows x 6 columns]\n"
     ]
    }
   ],
   "source": [
    "X_train, X_test, y_train, y_test = train_test_split(X, y, test_size=0.2, random_state=42)\n",
    "print(X_train)"
   ]
  },
  {
   "cell_type": "code",
   "execution_count": 51,
   "id": "344be5b4",
   "metadata": {},
   "outputs": [],
   "source": [
    "model = RandomForestClassifier(n_estimators=100, random_state=42)\n",
    "# Train the model\n",
    "model.fit(X_train, y_train)\n",
    "\n",
    "# Make predictions on the test set\n",
    "y_pred = model.predict(X_test)"
   ]
  },
  {
   "cell_type": "code",
   "execution_count": 52,
   "id": "e4f513bf",
   "metadata": {},
   "outputs": [
    {
     "name": "stdout",
     "output_type": "stream",
     "text": [
      "Accuracy:  0.5287126357226284\n"
     ]
    }
   ],
   "source": [
    "from sklearn.metrics import accuracy_score\n",
    "\n",
    "# Calculate the accuracy\n",
    "accuracy = accuracy_score(y_test, y_pred)\n",
    "\n",
    "print(\"Accuracy: \", accuracy)"
   ]
  }
 ],
 "metadata": {
  "kernelspec": {
   "display_name": "Python 3 (ipykernel)",
   "language": "python",
   "name": "python3"
  },
  "language_info": {
   "codemirror_mode": {
    "name": "ipython",
    "version": 3
   },
   "file_extension": ".py",
   "mimetype": "text/x-python",
   "name": "python",
   "nbconvert_exporter": "python",
   "pygments_lexer": "ipython3",
   "version": "3.11.3"
  }
 },
 "nbformat": 4,
 "nbformat_minor": 5
}
